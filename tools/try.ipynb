{
 "cells": [
  {
   "cell_type": "code",
   "execution_count": 1,
   "metadata": {},
   "outputs": [],
   "source": [
    "from imagededup.methods import PHash\n",
    "from tqdm import tqdm\n",
    "import os\n",
    "\n"
   ]
  },
  {
   "cell_type": "code",
   "execution_count": 2,
   "metadata": {},
   "outputs": [],
   "source": [
    "image_root = \"/mnt/ve_share/songyuhao/generation/data/exp/\"\n",
    "output_root = \"/mnt/ve_share/songyuhao/generation/data/result/exp/\"\n",
    "\n",
    "os.makedirs(output_root, exist_ok=True)\n",
    "\n"
   ]
  },
  {
   "cell_type": "code",
   "execution_count": 5,
   "metadata": {},
   "outputs": [
    {
     "name": "stderr",
     "output_type": "stream",
     "text": [
      "2023-08-24 15:01:57,651: INFO Start: Calculating hashes...\n",
      "100%|██████████| 3/3 [00:00<00:00, 14.81it/s]\n",
      "2023-08-24 15:01:58,772: INFO End: Calculating hashes!\n"
     ]
    }
   ],
   "source": [
    "phasher = PHash()\n",
    "\n",
    "# Generate encodings for all images in an image directory\n",
    "encodings = phasher.encode_images(image_dir=image_root)"
   ]
  },
  {
   "cell_type": "code",
   "execution_count": 6,
   "metadata": {},
   "outputs": [
    {
     "data": {
      "text/plain": [
       "{'29156764284920349.jpg': '9993e638d1c71e65',\n",
       " 'haha.jpg': '9993e638d1c71e65',\n",
       " '32654142832947634.jpg': 'c0d2e3356cc8bb7a'}"
      ]
     },
     "execution_count": 6,
     "metadata": {},
     "output_type": "execute_result"
    }
   ],
   "source": [
    "encodings"
   ]
  },
  {
   "cell_type": "code",
   "execution_count": 7,
   "metadata": {},
   "outputs": [
    {
     "name": "stderr",
     "output_type": "stream",
     "text": [
      "/opt/conda/envs/dedup/lib/python3.9/site-packages/imagededup-0.3.2-py3.9-linux-x86_64.egg/imagededup/methods/hashing.py:317: RuntimeWarning: Parameter num_enc_workers has no effect since encodings are already provided\n",
      "  warnings.warn('Parameter num_enc_workers has no effect since encodings are already provided', RuntimeWarning)\n",
      "2023-08-24 15:02:20,858: INFO Start: Evaluating hamming distances for getting duplicates\n",
      "2023-08-24 15:02:20,860: INFO Start: Retrieving duplicates using Cython Brute force algorithm\n",
      "100%|██████████| 3/3 [00:00<00:00, 21732.15it/s]\n",
      "2023-08-24 15:02:21,805: INFO End: Retrieving duplicates using Cython Brute force algorithm\n",
      "2023-08-24 15:02:21,805: INFO End: Evaluating hamming distances for getting duplicates\n"
     ]
    },
    {
     "name": "stdout",
     "output_type": "stream",
     "text": [
      "2\n"
     ]
    }
   ],
   "source": [
    "duplicates = phasher.find_duplicates(encoding_map=encodings, max_distance_threshold=0)\n",
    "duplicates = {key: value for key, value in duplicates.items() if len(value) > 0}\n",
    "print(len(duplicates))\n",
    "\n"
   ]
  },
  {
   "cell_type": "code",
   "execution_count": null,
   "metadata": {},
   "outputs": [],
   "source": [
    "duplicates = phasher.find_duplicates(encoding_map=encodings, max_distance_threshold=0)\n",
    "duplicates = {key: value for key, value in duplicates.items() if len(value) > 0}\n",
    "print(len(duplicates))\n",
    "\n"
   ]
  },
  {
   "cell_type": "code",
   "execution_count": null,
   "metadata": {},
   "outputs": [],
   "source": [
    "duplicates_to_remove = phasher.find_duplicates_to_remove(encoding_map=encodings, max_distance_threshold=0)\n",
    "print(duplicates_to_remove)\n",
    "\n",
    "\n",
    "# duplicates = phasher.find_duplicates(encoding_map=encodings, max_distance_threshold=5)\n",
    "# duplicates = {key: value for key, value in duplicates.items() if len(value) > 0}\n",
    "# print(len(duplicates))\n",
    "\n",
    "# duplicates = phasher.find_duplicates(encoding_map=encodings, max_distance_threshold=10)\n",
    "# duplicates = {key: value for key, value in duplicates.items() if len(value) > 0}\n",
    "# print(len(duplicates))\n",
    "\n",
    "# duplicates = phasher.find_duplicates(encoding_map=encodings, max_distance_threshold=15)\n",
    "# duplicates = {key: value for key, value in duplicates.items() if len(value) > 0}\n",
    "# print(len(duplicates))\n",
    "\n"
   ]
  },
  {
   "cell_type": "code",
   "execution_count": null,
   "metadata": {},
   "outputs": [],
   "source": [
    "# plot duplicates obtained for a given file using the duplicates dictionary\n",
    "from imagededup.utils import plot_duplicates\n",
    "for key in tqdm(duplicates.keys()):\n",
    "    plot_duplicates(image_dir=image_root,\n",
    "                    duplicate_map=duplicates,\n",
    "                    filename=key,\n",
    "                    outfile=\"%s/%s\" % (output_root, key))"
   ]
  }
 ],
 "metadata": {
  "kernelspec": {
   "display_name": "dedup",
   "language": "python",
   "name": "python3"
  },
  "language_info": {
   "codemirror_mode": {
    "name": "ipython",
    "version": 3
   },
   "file_extension": ".py",
   "mimetype": "text/x-python",
   "name": "python",
   "nbconvert_exporter": "python",
   "pygments_lexer": "ipython3",
   "version": "3.9.16"
  },
  "orig_nbformat": 4,
  "vscode": {
   "interpreter": {
    "hash": "523e60025de35b754152922cac0df463d9097733b783b95504ec93b6befc3d7c"
   }
  }
 },
 "nbformat": 4,
 "nbformat_minor": 2
}
